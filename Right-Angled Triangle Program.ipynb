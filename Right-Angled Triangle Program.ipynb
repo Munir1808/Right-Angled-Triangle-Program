{
 "cells": [
  {
   "cell_type": "markdown",
   "id": "39706f92",
   "metadata": {},
   "source": [
    "Q1. Write a Python program that takes an integer input from the user and prints a right-angled triangle with that many lines. The triangle should be aligned to the right, with each line containing one more asterisk (*) than the previous line. Spaces should be used to align the triangle to the right."
   ]
  },
  {
   "cell_type": "code",
   "execution_count": 1,
   "id": "0439803a",
   "metadata": {
    "scrolled": true
   },
   "outputs": [
    {
     "name": "stdout",
     "output_type": "stream",
     "text": [
      "Enter a Number5\n",
      "    * \n",
      "   * * \n",
      "  * * * \n",
      " * * * * \n",
      "* * * * * \n"
     ]
    }
   ],
   "source": [
    "num = int(input(\"Enter a Number\"))\n",
    "for i in range(0,num):\n",
    "    for j in range(0,num-i-1):\n",
    "        print(end=\" \")\n",
    "    for j in range(0,i+1):\n",
    "        print(\"*\",end=\" \")\n",
    "    print()\n",
    "    "
   ]
  },
  {
   "cell_type": "markdown",
   "id": "3b0e81a5",
   "metadata": {},
   "source": [
    "Line 1: This line takes an integer input from the user and assigns it to the variable num. This number represents the number of lines in the triangle.\n",
    "\n",
    "Line 2: This for loop iterates over each line of the triangle. The variable i represents the current line number (starting from 0).\n",
    "\n",
    "Line 3: This for loop prints the spaces at the beginning of each line. The number of spaces is num - i - 1, which decreases with each line.\n",
    "\n",
    "Line 4: This line prints a space. The end=\" \" argument in the print function prevents it from printing a newline after each space.\n",
    "\n",
    "Line 5: This for loop prints the asterisks in each line. The number of asterisks is i + 1, which increases with each line.\n",
    "\n",
    "Line 6: This line prints an asterisk followed by a space. The end=\" \" argument in the print function prevents it from printing a newline after each asterisk.\n",
    "\n",
    "Line 7: This line prints a newline at the end of each line of the triangle. This causes the next line of the triangle to be printed on a new line."
   ]
  }
 ],
 "metadata": {
  "kernelspec": {
   "display_name": "Python 3 (ipykernel)",
   "language": "python",
   "name": "python3"
  },
  "language_info": {
   "codemirror_mode": {
    "name": "ipython",
    "version": 3
   },
   "file_extension": ".py",
   "mimetype": "text/x-python",
   "name": "python",
   "nbconvert_exporter": "python",
   "pygments_lexer": "ipython3",
   "version": "3.11.3"
  }
 },
 "nbformat": 4,
 "nbformat_minor": 5
}
